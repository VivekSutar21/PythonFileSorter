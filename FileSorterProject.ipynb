{
 "cells": [
  {
   "cell_type": "code",
   "execution_count": 68,
   "id": "6ff31ff8-6fca-46c1-840a-bc9b36629ec5",
   "metadata": {},
   "outputs": [],
   "source": [
    "import os, shutil\n",
    "path = r\"C:/Users/itsvi/Downloads/SortingFiles/\""
   ]
  },
  {
   "cell_type": "code",
   "execution_count": 69,
   "id": "58911237-c4fb-4cac-8ee1-58e73584ca93",
   "metadata": {},
   "outputs": [
    {
     "data": {
      "text/plain": [
       "True"
      ]
     },
     "execution_count": 69,
     "metadata": {},
     "output_type": "execute_result"
    }
   ],
   "source": [
    "os.path.exists(path)"
   ]
  },
  {
   "cell_type": "code",
   "execution_count": 70,
   "id": "3d04272a-d216-430c-ad03-df9fffd12989",
   "metadata": {},
   "outputs": [
    {
     "name": "stdout",
     "output_type": "stream",
     "text": [
      "['CSV Files', 'Image Files', 'PDF Files', 'Text Files']\n"
     ]
    }
   ],
   "source": [
    "file_names = os.listdir(path)\n",
    "print(file_names)"
   ]
  },
  {
   "cell_type": "code",
   "execution_count": 71,
   "id": "04ec86da-d5f2-4d35-a9f0-276bce7f058f",
   "metadata": {},
   "outputs": [],
   "source": [
    "folder_names = [\"CSV Files\" ,\"Image Files\", \"Text Files\", \"PDF Files\"]\n",
    "for loop in range(0, 4):\n",
    "    if not os.path.exists(path + folder_names[loop]):\n",
    "        print(path + folder_names[loop])\n",
    "        os.makedirs(path + folder_names[loop])\n",
    "\n",
    "for file in file_names:\n",
    "    if \".csv\" in file and not os.path.exists(path + \"CSV Files/\" + file):\n",
    "        shutil.move(path+ file, path + \"CSV Files/\" + file)\n",
    "    elif \".png\" in file and not os.path.exists(path + \"Image Files/\" + file):\n",
    "        shutil.move(path+ file, path + \"Image Files/\" + file)\n",
    "    elif \".jpg\" in file and not os.path.exists(path + \"Image Files/\" + file):\n",
    "        shutil.move(path+ file, path + \"Image Files/\" + file)\n",
    "    elif \".pdf\" in file and not os.path.exists(path + \"PDF Files/\" + file):\n",
    "        shutil.move(path+ file, path + \"PDF Files/\" + file)\n",
    "    elif \".txt\" in file and not os.path.exists(path + \"Text Files/\" + file):\n",
    "        shutil.move(path+ file, path + \"Text Files/\" + file)"
   ]
  },
  {
   "cell_type": "code",
   "execution_count": null,
   "id": "9d865eeb-5a02-4131-b8cf-dd0278ad739f",
   "metadata": {},
   "outputs": [],
   "source": []
  }
 ],
 "metadata": {
  "kernelspec": {
   "display_name": "Python 3 (ipykernel)",
   "language": "python",
   "name": "python3"
  },
  "language_info": {
   "codemirror_mode": {
    "name": "ipython",
    "version": 3
   },
   "file_extension": ".py",
   "mimetype": "text/x-python",
   "name": "python",
   "nbconvert_exporter": "python",
   "pygments_lexer": "ipython3",
   "version": "3.13.2"
  }
 },
 "nbformat": 4,
 "nbformat_minor": 5
}
